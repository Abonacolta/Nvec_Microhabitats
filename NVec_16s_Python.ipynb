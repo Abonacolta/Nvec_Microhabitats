{
 "cells": [
  {
   "cell_type": "code",
   "execution_count": 2,
   "metadata": {
    "scrolled": true
   },
   "outputs": [
    {
     "name": "stdout",
     "output_type": "stream",
     "text": [
      "/Users/anthonybonacolta/Downloads/ENTER/envs/qiime2-2019.1/bin/qiime\r\n"
     ]
    }
   ],
   "source": [
    "!which qiime"
   ]
  },
  {
   "cell_type": "code",
   "execution_count": 7,
   "metadata": {},
   "outputs": [
    {
     "ename": "SyntaxError",
     "evalue": "invalid syntax (<ipython-input-7-65b085fa11ed>, line 2)",
     "output_type": "error",
     "traceback": [
      "\u001b[0;36m  File \u001b[0;32m\"<ipython-input-7-65b085fa11ed>\"\u001b[0;36m, line \u001b[0;32m2\u001b[0m\n\u001b[0;31m    -O \"pe-33.zip\" \\\"https://data.qiime2.org/2019.1/tutorials/importing/pe-33.zip\u001b[0m\n\u001b[0m                 ^\u001b[0m\n\u001b[0;31mSyntaxError\u001b[0m\u001b[0;31m:\u001b[0m invalid syntax\n"
     ]
    }
   ],
   "source": [
    "wget \\\n",
    "-O \"pe-33.zip\" \\\"https://data.qiime2.org/2019.1/tutorials/importing/pe-33.zip"
   ]
  },
  {
   "cell_type": "code",
   "execution_count": 3,
   "metadata": {},
   "outputs": [
    {
     "ename": "SyntaxError",
     "evalue": "invalid syntax (<ipython-input-3-c64655a6cd57>, line 4)",
     "output_type": "error",
     "traceback": [
      "\u001b[0;36m  File \u001b[0;32m\"<ipython-input-3-c64655a6cd57>\"\u001b[0;36m, line \u001b[0;32m4\u001b[0m\n\u001b[0;31m    NVN1,/Users/anthonybonacolta/Desktop/Nvec_16s/raw/bonacolta-NVN1_S190_L001_R1_001.fastq.gz,forward\u001b[0m\n\u001b[0m         ^\u001b[0m\n\u001b[0;31mSyntaxError\u001b[0m\u001b[0;31m:\u001b[0m invalid syntax\n"
     ]
    }
   ],
   "source": [
    "sample-id,absolute-filepath,direction\n",
    "# Lines starting with '#' are ignored and can be used to create\n",
    "# \"comments\" or even \"comment out\" entries\n",
    "NVN1,/Users/anthonybonacolta/Desktop/Nvec_16s/raw/bonacolta-NVN1_S190_L001_R1_001.fastq.gz,forward\n",
    "NVN1,/Users/anthonybonacolta/Desktop/Nvec_16s/raw/bonacolta-NVN1_S190_L001_R2_001.fastq.gz,reverse\n",
    "NV11P,/Users/anthonybonacolta/Desktop/Nvec_16s/raw/bonacolta-NV11-P_S188_L001_R1_001.fastq.gz,forward\n",
    "NV11P,/Users/anthonybonacolta/Desktop/Nvec_16s/raw/bonacolta-NV11-P_S188_L001_R2_001.fastq.gz,reverse\n",
    "NV11M,/Users/anthonybonacolta/Desktop/Nvec_16s/raw/bonacolta-NV11-M_S186_L001_R2_001.fastq.gz,reverse\n",
    "NV11M,/Users/anthonybonacolta/Desktop/Nvec_16s/raw/bonacolta-NV11-M_S186_L001_R1_001.fastq.gz,forward\n",
    "NV11C,/Users/anthonybonacolta/Desktop/Nvec_16s/raw/bonacolta-NV11-C_S187_L001_R2_001.fastq.gz,reverse\n",
    "NV11C,/Users/anthonybonacolta/Desktop/Nvec_16s/raw/bonacolta-NV11-C_S187_L001_R1_001.fastq.gz,forward\n",
    "NV10P,/Users/anthonybonacolta/Desktop/Nvec_16s/raw/bonacolta-NV10-P_S185_L001_R2_001.fastq.gz,reverse\n",
    "NV10P,/Users/anthonybonacolta/Desktop/Nvec_16s/raw/bonacolta-NV10-P_S185_L001_R1_001.fastq.gz,forward\n",
    "NV10M,/Users/anthonybonacolta/Desktop/Nvec_16s/raw/bonacolta-NV10-M_S183_L001_R2_001.fastq.gz,reverse\n",
    "NV10M,/Users/anthonybonacolta/Desktop/Nvec_16s/raw/bonacolta-NV10-M_S183_L001_R1_001.fastq.gz,forward\n",
    "NV10C,/Users/anthonybonacolta/Desktop/Nvec_16s/raw/bonacolta-NV10-C_S184_L001_R2_001.fastq.gz,reverse\n",
    "NV10C,/Users/anthonybonacolta/Desktop/Nvec_16s/raw/bonacolta-NV10-C_S184_L001_R1_001.fastq.gz,forward\n",
    "NV8P,/Users/anthonybonacolta/Desktop/Nvec_16s/raw/bonacolta-NV8-P_S182_L001_R2_001.fastq.gz,reverse\n",
    "NV8P,/Users/anthonybonacolta/Desktop/Nvec_16s/raw/bonacolta-NV8-P_S182_L001_R1_001.fastq.gz,forward\n",
    "NV8M,/Users/anthonybonacolta/Desktop/Nvec_16s/raw/bonacolta-NV8-M_S180_L001_R2_001.fastq.gz,reverse\n",
    "NV8M,/Users/anthonybonacolta/Desktop/Nvec_16s/raw/bonacolta-NV8-M_S180_L001_R1_001.fastq.gz,forward\n",
    "NV8C,/Users/anthonybonacolta/Desktop/Nvec_16s/raw/bonacolta-NV8-C_S181_L001_R2_001.fastq.gz,reverse\n",
    "NV8C,/Users/anthonybonacolta/Desktop/Nvec_16s/raw/bonacolta-NV8-C_S181_L001_R1_001.fastq.gz,forward\n",
    "NV6P,/Users/anthonybonacolta/Desktop/Nvec_16s/raw/bonacolta-NV6-P_S179_L001_R2_001.fastq.gz,reverse\n",
    "NV6P,/Users/anthonybonacolta/Desktop/Nvec_16s/raw/bonacolta-NV6-P_S179_L001_R1_001.fastq.gz,forward\n",
    "NV6M,/Users/anthonybonacolta/Desktop/Nvec_16s/raw/bonacolta-NV6-M_S177_L001_R2_001.fastq.gz,reverse\n",
    "NV6M,/Users/anthonybonacolta/Desktop/Nvec_16s/raw/bonacolta-NV6-M_S177_L001_R1_001.fastq.gz,forward\n",
    "NV6C,/Users/anthonybonacolta/Desktop/Nvec_16s/raw/bonacolta-NV6-C_S178_L001_R2_001.fastq.gz,reverse\n",
    "NV6C,/Users/anthonybonacolta/Desktop/Nvec_16s/raw/bonacolta-NV6-C_S178_L001_R1_001.fastq.gz,forward\n",
    "NV5P,/Users/anthonybonacolta/Desktop/Nvec_16s/raw/bonacolta-NV5-P_S176_L001_R2_001.fastq.gz,reverse\n",
    "NV5P,/Users/anthonybonacolta/Desktop/Nvec_16s/raw/bonacolta-NV5-P_S176_L001_R1_001.fastq.gz,forward\n",
    "NV5M,/Users/anthonybonacolta/Desktop/Nvec_16s/raw/bonacolta-NV5-M_S174_L001_R2_001.fastq.gz,reverse\n",
    "NV5M,/Users/anthonybonacolta/Desktop/Nvec_16s/raw/bonacolta-NV5-M_S174_L001_R1_001.fastq.gz,forward\n",
    "NV5C,/Users/anthonybonacolta/Desktop/Nvec_16s/raw/bonacolta-NV5-C_S175_L001_R2_001.fastq.gz,reverse\n",
    "NV5C,/Users/anthonybonacolta/Desktop/Nvec_16s/raw/bonacolta-NV5-C_S175_L001_R1_001.fastq.gz,forward\n",
    "NV4P,/Users/anthonybonacolta/Desktop/Nvec_16s/raw/bonacolta-NV4-P_S173_L001_R2_001.fastq.gz,reverse\n",
    "NV4P,/Users/anthonybonacolta/Desktop/Nvec_16s/raw/bonacolta-NV4-P_S173_L001_R1_001.fastq.gz,forward\n",
    "NV4M,/Users/anthonybonacolta/Desktop/Nvec_16s/raw/bonacolta-NV4-M_S171_L001_R2_001.fastq.gz,reverse\n",
    "NV4M,/Users/anthonybonacolta/Desktop/Nvec_16s/raw/bonacolta-NV4-M_S171_L001_R1_001.fastq.gz,forward\n",
    "NV4C,/Users/anthonybonacolta/Desktop/Nvec_16s/raw/bonacolta-NV4-C_S172_L001_R2_001.fastq.gz,reverse\n",
    "NV4C,/Users/anthonybonacolta/Desktop/Nvec_16s/raw/bonacolta-NV4-C_S172_L001_R1_001.fastq.gz,forward"
   ]
  },
  {
   "cell_type": "code",
   "execution_count": 17,
   "metadata": {},
   "outputs": [],
   "source": [
    "!unzip -q pe-64.zip"
   ]
  },
  {
   "cell_type": "code",
   "execution_count": 19,
   "metadata": {},
   "outputs": [
    {
     "name": "stdout",
     "output_type": "stream",
     "text": [
      "Usage: qiime tools import [OPTIONS]\r\n",
      "\r\n",
      "  Import data to create a new QIIME 2 Artifact. See https://docs.qiime2.org/\r\n",
      "  for usage examples and details on the file types and associated semantic\r\n",
      "  types that can be imported.\r\n",
      "\r\n",
      "Options:\r\n",
      "  --type TEXT                The semantic type of the artifact that will be\r\n",
      "                             created upon importing. Use --show-importable-\r\n",
      "                             types to see what importable semantic types are\r\n",
      "                             available in the current deployment.  [required]\r\n",
      "  --input-path PATH          Path to file or directory that should be\r\n",
      "                             imported.  [required]\r\n",
      "  --output-path FILE         Path where output artifact should be written.\r\n",
      "                             [required]\r\n",
      "  --input-format TEXT        The format of the data to be imported. If not\r\n",
      "                             provided, data must be in the format expected by\r\n",
      "                             the semantic type provided via --type.\r\n",
      "  --show-importable-types    Show the semantic types that can be supplied to\r\n",
      "                             --type to import data into an artifact.\r\n",
      "  --show-importable-formats  Show formats that can be supplied to --input-\r\n",
      "                             format to import data into an artifact.\r\n",
      "  --help                     Show this message and exit.\r\n"
     ]
    }
   ],
   "source": [
    "!qiime tools import --help"
   ]
  },
  {
   "cell_type": "code",
   "execution_count": 37,
   "metadata": {},
   "outputs": [
    {
     "name": "stdout",
     "output_type": "stream",
     "text": [
      "\u001b[32mImported /Users/anthonybonacolta/Desktop/Nvec_16s/raw/MANIFEST.txt as PairedEndFastqManifestPhred33 to paired-end-demux.qza\u001b[0m\r\n"
     ]
    }
   ],
   "source": [
    "!qiime tools import \\\n",
    "  --type 'SampleData[PairedEndSequencesWithQuality]' \\\n",
    "  --input-path /Users/anthonybonacolta/Desktop/Nvec_16s/raw/MANIFEST.txt \\\n",
    "  --output-path paired-end-demux.qza \\\n",
    "  --input-format PairedEndFastqManifestPhred33"
   ]
  },
  {
   "cell_type": "code",
   "execution_count": 41,
   "metadata": {},
   "outputs": [
    {
     "name": "stdout",
     "output_type": "stream",
     "text": [
      "Usage: qiime demux emp-paired [OPTIONS]\r\n",
      "\r\n",
      "  Demultiplex paired-end sequence data (i.e., map barcode reads to sample\r\n",
      "  ids) for data generated with the Earth Microbiome Project (EMP) amplicon\r\n",
      "  sequencing protocol. Details about this protocol can be found at\r\n",
      "  http://www.earthmicrobiome.org/protocols-and-standards/\r\n",
      "\r\n",
      "Options:\r\n",
      "  --i-seqs ARTIFACT PATH EMPPairedEndSequences\r\n",
      "                                  The paired-end sequences to be\r\n",
      "                                  demultiplexed.  [required]\r\n",
      "  --m-barcodes-file MULTIPLE FILE\r\n",
      "                                  Metadata file or artifact viewable as\r\n",
      "                                  metadata. This option may be supplied\r\n",
      "                                  multiple times to merge metadata.\r\n",
      "                                  [required]\r\n",
      "  --m-barcodes-column MetadataColumn[Categorical]\r\n",
      "                                  Column from metadata file or artifact\r\n",
      "                                  viewable as metadata. The sample metadata\r\n",
      "                                  column containing the per-sample barcodes.\r\n",
      "                                  [required]\r\n",
      "  --p-rev-comp-barcodes / --p-no-rev-comp-barcodes\r\n",
      "                                  If provided, the barcode sequence reads will\r\n",
      "                                  be reverse complemented prior to\r\n",
      "                                  demultiplexing.  [default: False]\r\n",
      "  --p-rev-comp-mapping-barcodes / --p-no-rev-comp-mapping-barcodes\r\n",
      "                                  If provided, the barcode sequences in the\r\n",
      "                                  sample metadata will be reverse complemented\r\n",
      "                                  prior to demultiplexing.  [default: False]\r\n",
      "  --o-per-sample-sequences ARTIFACT PATH SampleData[PairedEndSequencesWithQuality]\r\n",
      "                                  The resulting demultiplexed sequences.\r\n",
      "                                  [required if not passing --output-dir]\r\n",
      "  --output-dir DIRECTORY          Output unspecified results to a directory\r\n",
      "  --cmd-config FILE               Use config file for command options\r\n",
      "  --verbose                       Display verbose output to stdout and/or\r\n",
      "                                  stderr during execution of this action.\r\n",
      "                                  [default: False]\r\n",
      "  --quiet                         Silence output if execution is successful\r\n",
      "                                  (silence is golden).  [default: False]\r\n",
      "  --citations                     Show citations and exit.\r\n",
      "  --help                          Show this message and exit.\r\n"
     ]
    }
   ],
   "source": [
    "!qiime demux emp-paired \\\n",
    "--help"
   ]
  },
  {
   "cell_type": "code",
   "execution_count": 42,
   "metadata": {
    "scrolled": true
   },
   "outputs": [
    {
     "name": "stdout",
     "output_type": "stream",
     "text": [
      "\u001b[32mSaved Visualization to: demux_Nvec.qzv\u001b[0m\r\n"
     ]
    }
   ],
   "source": [
    "!qiime demux summarize --verbose --i-data paired-end-demux.qza --o-visualization demux_Nvec.qzv"
   ]
  },
  {
   "cell_type": "code",
   "execution_count": 44,
   "metadata": {},
   "outputs": [
    {
     "name": "stdout",
     "output_type": "stream",
     "text": [
      "\u001b[32mSaved FeatureTable[Frequency] to: table_Nvec.qza\u001b[0m\n",
      "\u001b[32mSaved FeatureData[Sequence] to: rep_seqs_Nvec.qza\u001b[0m\n",
      "\u001b[32mSaved SampleData[DADA2Stats] to: denoise_stats_Nvec.qza\u001b[0m\n"
     ]
    }
   ],
   "source": [
    "!qiime dada2 denoise-paired \\\n",
    "--i-demultiplexed-seqs paired-end-demux.qza \\\n",
    "--p-trunc-len-f 200 \\\n",
    "--p-trunc-len-r 180 \\\n",
    "--p-n-threads 10  \\\n",
    "--o-representative-sequences rep_seqs_Nvec.qza \\\n",
    "--o-table table_Nvec.qza \\\n",
    "--o-denoising-stats denoise_stats_Nvec.qza"
   ]
  },
  {
   "cell_type": "code",
   "execution_count": 1,
   "metadata": {},
   "outputs": [
    {
     "name": "stdout",
     "output_type": "stream",
     "text": [
      "\u001b[32mSaved FeatureData[Taxonomy] to: taxonomyNvec.qza\u001b[0m\r\n"
     ]
    }
   ],
   "source": [
    "!qiime feature-classifier classify-sklearn \\\n",
    "  --i-classifier /Users/anthonybonacolta/Desktop/Nvec_16s/silva-132-99-nb-classifier.qza \\\n",
    "  --i-reads rep_seqs_Nvec.qza \\\n",
    "  --o-classification taxonomyNvec.qza"
   ]
  },
  {
   "cell_type": "code",
   "execution_count": 2,
   "metadata": {},
   "outputs": [
    {
     "name": "stdout",
     "output_type": "stream",
     "text": [
      "\u001b[32mSaved FeatureTable[Frequency] to: table-no-MitoChl_Nvec.qza\u001b[0m\r\n"
     ]
    }
   ],
   "source": [
    "!qiime taxa filter-table \\\n",
    "  --i-table table_Nvec.qza \\\n",
    "  --i-taxonomy taxonomyNvec.qza \\\n",
    "  --p-exclude mitochondria,chloroplast \\\n",
    "  --o-filtered-table table-no-MitoChl_Nvec.qza"
   ]
  },
  {
   "cell_type": "code",
   "execution_count": 3,
   "metadata": {},
   "outputs": [
    {
     "name": "stdout",
     "output_type": "stream",
     "text": [
      "\u001b[32mSaved FeatureData[Sequence] to: rep-seqs-no-MitoChl_Nvec.qza\u001b[0m\r\n"
     ]
    }
   ],
   "source": [
    "!qiime taxa filter-seqs \\\n",
    "  --i-sequences rep_seqs_Nvec.qza \\\n",
    "  --i-taxonomy taxonomyNvec.qza \\\n",
    "  --p-exclude mitochondria,chloroplast \\\n",
    "  --o-filtered-sequences rep-seqs-no-MitoChl_Nvec.qza"
   ]
  },
  {
   "cell_type": "code",
   "execution_count": 8,
   "metadata": {},
   "outputs": [
    {
     "name": "stdout",
     "output_type": "stream",
     "text": [
      "\u001b[32mSaved Visualization to: taxa-bar-plotsFilNvec.qzv\u001b[0m\r\n"
     ]
    }
   ],
   "source": [
    "!qiime taxa barplot \\\n",
    "  --i-table table-no-MitoChl_Nvec.qza \\\n",
    "  --i-taxonomy taxonomyNvec.qza \\\n",
    "  --m-metadata-file /Users/anthonybonacolta/Desktop/Nvec_16s/16S_metadata_tab.txt\\\n",
    "  --o-visualization taxa-bar-plotsFilNvec.qzv"
   ]
  },
  {
   "cell_type": "code",
   "execution_count": 9,
   "metadata": {},
   "outputs": [
    {
     "name": "stdout",
     "output_type": "stream",
     "text": [
      "\u001b[32mSaved FeatureData[AlignedSequence] to: aligned-rep-seqsNvec.qza\u001b[0m\r\n"
     ]
    }
   ],
   "source": [
    "!qiime alignment mafft \\\n",
    "  --i-sequences rep_seqs_Nvec.qza \\\n",
    "  --o-alignment aligned-rep-seqsNvec.qza"
   ]
  },
  {
   "cell_type": "code",
   "execution_count": 10,
   "metadata": {},
   "outputs": [
    {
     "name": "stdout",
     "output_type": "stream",
     "text": [
      "\u001b[32mSaved FeatureData[AlignedSequence] to: aligned-rep-seqsMaskedNvec.qza\u001b[0m\r\n"
     ]
    }
   ],
   "source": [
    "!qiime alignment mask \\\n",
    "  --i-alignment aligned-rep-seqsNvec.qza \\\n",
    "  --o-masked-alignment aligned-rep-seqsMaskedNvec.qza"
   ]
  },
  {
   "cell_type": "code",
   "execution_count": 11,
   "metadata": {},
   "outputs": [
    {
     "name": "stdout",
     "output_type": "stream",
     "text": [
      "\u001b[32mSaved Phylogeny[Unrooted] to: unrooted-tree-Nvec.qza\u001b[0m\r\n"
     ]
    }
   ],
   "source": [
    "!qiime phylogeny fasttree \\\n",
    "  --i-alignment aligned-rep-seqsMaskedNvec.qza \\\n",
    "  --o-tree unrooted-tree-Nvec.qza"
   ]
  },
  {
   "cell_type": "code",
   "execution_count": 12,
   "metadata": {},
   "outputs": [
    {
     "name": "stdout",
     "output_type": "stream",
     "text": [
      "\u001b[32mSaved Phylogeny[Rooted] to: rooted-tree-Nvec.qza\u001b[0m\r\n"
     ]
    }
   ],
   "source": [
    "!qiime phylogeny midpoint-root \\\n",
    "  --i-tree unrooted-tree-Nvec.qza \\\n",
    "  --o-rooted-tree rooted-tree-Nvec.qza"
   ]
  },
  {
   "cell_type": "code",
   "execution_count": 16,
   "metadata": {},
   "outputs": [
    {
     "name": "stdout",
     "output_type": "stream",
     "text": [
      "\u001b[32mSaved FeatureTable[Frequency] to: core-metrics-results_60000/rarefied_table.qza\u001b[0m\n",
      "\u001b[32mSaved SampleData[AlphaDiversity] % Properties(['phylogenetic']) to: core-metrics-results_60000/faith_pd_vector.qza\u001b[0m\n",
      "\u001b[32mSaved SampleData[AlphaDiversity] to: core-metrics-results_60000/observed_otus_vector.qza\u001b[0m\n",
      "\u001b[32mSaved SampleData[AlphaDiversity] to: core-metrics-results_60000/shannon_vector.qza\u001b[0m\n",
      "\u001b[32mSaved SampleData[AlphaDiversity] to: core-metrics-results_60000/evenness_vector.qza\u001b[0m\n",
      "\u001b[32mSaved DistanceMatrix % Properties(['phylogenetic']) to: core-metrics-results_60000/unweighted_unifrac_distance_matrix.qza\u001b[0m\n",
      "\u001b[32mSaved DistanceMatrix % Properties(['phylogenetic']) to: core-metrics-results_60000/weighted_unifrac_distance_matrix.qza\u001b[0m\n",
      "\u001b[32mSaved DistanceMatrix to: core-metrics-results_60000/jaccard_distance_matrix.qza\u001b[0m\n",
      "\u001b[32mSaved DistanceMatrix to: core-metrics-results_60000/bray_curtis_distance_matrix.qza\u001b[0m\n",
      "\u001b[32mSaved PCoAResults to: core-metrics-results_60000/unweighted_unifrac_pcoa_results.qza\u001b[0m\n",
      "\u001b[32mSaved PCoAResults to: core-metrics-results_60000/weighted_unifrac_pcoa_results.qza\u001b[0m\n",
      "\u001b[32mSaved PCoAResults to: core-metrics-results_60000/jaccard_pcoa_results.qza\u001b[0m\n",
      "\u001b[32mSaved PCoAResults to: core-metrics-results_60000/bray_curtis_pcoa_results.qza\u001b[0m\n",
      "\u001b[32mSaved Visualization to: core-metrics-results_60000/unweighted_unifrac_emperor.qzv\u001b[0m\n",
      "\u001b[32mSaved Visualization to: core-metrics-results_60000/weighted_unifrac_emperor.qzv\u001b[0m\n",
      "\u001b[32mSaved Visualization to: core-metrics-results_60000/jaccard_emperor.qzv\u001b[0m\n",
      "\u001b[32mSaved Visualization to: core-metrics-results_60000/bray_curtis_emperor.qzv\u001b[0m\n"
     ]
    }
   ],
   "source": [
    "!qiime diversity core-metrics-phylogenetic \\\n",
    "  --i-phylogeny rooted-tree-Nvec.qza \\\n",
    "  --i-table table-no-MitoChl_Nvec.qza \\\n",
    "  --p-sampling-depth 60000 \\\n",
    "  --m-metadata-file 16S_metadata_tab.txt \\\n",
    "  --output-dir core-metrics-results_60000"
   ]
  },
  {
   "cell_type": "code",
   "execution_count": 17,
   "metadata": {},
   "outputs": [
    {
     "name": "stdout",
     "output_type": "stream",
     "text": [
      "\u001b[32mSaved Visualization to: core-metrics-results/faith-pd-group-significance_60000.qzv\u001b[0m\n",
      "\u001b[32mSaved Visualization to: core-metrics-results/evenness-group-significance_60000.qzv\u001b[0m\n",
      "\u001b[32mSaved Visualization to: core-metrics-results/shannon-group-significance_60000.qzv\u001b[0m\n"
     ]
    }
   ],
   "source": [
    "!qiime diversity alpha-group-significance \\\n",
    "  --i-alpha-diversity core-metrics-results_60000/faith_pd_vector.qza \\\n",
    "  --m-metadata-file 16S_metadata_tab.txt  \\\n",
    "  --o-visualization core-metrics-results/faith-pd-group-significance_60000.qzv\n",
    "\n",
    "!qiime diversity alpha-group-significance \\\n",
    "  --i-alpha-diversity core-metrics-results_60000/evenness_vector.qza \\\n",
    "  --m-metadata-file 16S_metadata_tab.txt  \\\n",
    "  --o-visualization core-metrics-results/evenness-group-significance_60000.qzv\n",
    "    \n",
    "!qiime diversity alpha-group-significance \\\n",
    "  --i-alpha-diversity core-metrics-results_60000/shannon_vector.qza \\\n",
    "  --m-metadata-file 16S_metadata_tab.txt  \\\n",
    "  --o-visualization core-metrics-results/shannon-group-significance_60000.qzv"
   ]
  },
  {
   "cell_type": "code",
   "execution_count": 26,
   "metadata": {},
   "outputs": [
    {
     "name": "stdout",
     "output_type": "stream",
     "text": [
      "\u001b[32mExported /Users/anthonybonacolta/Desktop/Nvec_16s/table-no-MitoChl_Nvec.qza as BIOMV210DirFmt to directory /Users/anthonybonacolta/Desktop/Nvec_16s/export_Nvec/feature-table-Nvec.txt\u001b[0m\n",
      "\u001b[32mExported /Users/anthonybonacolta/Desktop/Nvec_16s/rooted-tree-Nvec.qza as NewickDirectoryFormat to directory /Users/anthonybonacolta/Desktop/Nvec_16s/export_Nvec/rooted-tree-Nvec.txt\u001b[0m\n",
      "\u001b[32mExported /Users/anthonybonacolta/Desktop/Nvec_16s/taxonomyNvec.qza as TSVTaxonomyDirectoryFormat to directory /Users/anthonybonacolta/Desktop/Nvec_16s/export_Nvec/taxonomyNvec.txt\u001b[0m\n"
     ]
    }
   ],
   "source": [
    "!qiime tools export \\\n",
    "  --input-path /Users/anthonybonacolta/Desktop/Nvec_16s/table-no-MitoChl_Nvec.qza\\\n",
    "  --output-path /Users/anthonybonacolta/Desktop/Nvec_16s/export_Nvec/feature-table-Nvec.txt\n",
    "\n",
    "!qiime tools export \\\n",
    " --input-path /Users/anthonybonacolta/Desktop/Nvec_16s/rooted-tree-Nvec.qza \\\n",
    " --output-path /Users/anthonybonacolta/Desktop/Nvec_16s/export_Nvec/rooted-tree-Nvec.txt\n",
    "\n",
    "!qiime tools export \\\n",
    "  --input-path /Users/anthonybonacolta/Desktop/Nvec_16s/taxonomyNvec.qza \\\n",
    "  --output-path /Users/anthonybonacolta/Desktop/Nvec_16s/export_Nvec/taxonomyNvec.txt "
   ]
  },
  {
   "cell_type": "code",
   "execution_count": 21,
   "metadata": {},
   "outputs": [
    {
     "name": "stdout",
     "output_type": "stream",
     "text": [
      "Usage: qiime tools export [OPTIONS]\r\n",
      "\r\n",
      "  Exporting extracts (and optionally transforms) data stored inside an\r\n",
      "  Artifact or Visualization. Note that Visualizations cannot be transformed\r\n",
      "  with --output-format\r\n",
      "\r\n",
      "Options:\r\n",
      "  --input-path FILE     Path to file that should be exported  [required]\r\n",
      "  --output-path PATH    Path to file or directory where data should be\r\n",
      "                        exported to  [required]\r\n",
      "  --output-format TEXT  Format which the data should be exported as. This\r\n",
      "                        option cannot be used with Visualizations\r\n",
      "  --help                Show this message and exit.\r\n"
     ]
    }
   ],
   "source": [
    "!qiime tools export --help"
   ]
  },
  {
   "cell_type": "code",
   "execution_count": 32,
   "metadata": {},
   "outputs": [
    {
     "ename": "IndentationError",
     "evalue": "unexpected indent (<ipython-input-32-8126a40bbac7>, line 2)",
     "output_type": "error",
     "traceback": [
      "\u001b[0;36m  File \u001b[0;32m\"<ipython-input-32-8126a40bbac7>\"\u001b[0;36m, line \u001b[0;32m2\u001b[0m\n\u001b[0;31m    --output-format txt\u001b[0m\n\u001b[0m    ^\u001b[0m\n\u001b[0;31mIndentationError\u001b[0m\u001b[0;31m:\u001b[0m unexpected indent\n"
     ]
    }
   ],
   "source": [
    "!qiime tools export \\\n",
    "  --input-path /Users/anthonybonacolta/Desktop/Nvec_16s/table-no-MitoChl_Nvec.qza\\\n",
    "  --output-path /Users/anthonybonacolta/Desktop/Nvec_16s/export_Nvec \\ \n",
    "  --output-format txt\n",
    "\n",
    "!qiime tools export \\\n",
    " --input-path /Users/anthonybonacolta/Desktop/Nvec_16s/rooted-tree-Nvec.qza \\\n",
    " --output-path /Users/anthonybonacolta/Desktop/Nvec_16s/export_Nvec \\ \n",
    " --output-format txt\n",
    "\n",
    "!qiime tools export \\\n",
    "  --input-path /Users/anthonybonacolta/Desktop/Nvec_16s/taxonomyNvec.qza \\\n",
    "  --output-path /Users/anthonybonacolta/Desktop/Nvec_16s/export_Nvec \\ \n",
    "  --output-format txt"
   ]
  },
  {
   "cell_type": "code",
   "execution_count": 46,
   "metadata": {},
   "outputs": [
    {
     "name": "stdout",
     "output_type": "stream",
     "text": [
      "\u001b[32mExported /Users/anthonybonacolta/Desktop/Nvec_16s/table-no-MitoChl_Nvec.qza as BIOMV210DirFmt to directory /Users/anthonybonacolta/Desktop/Nvec_16s/export_Nvec\u001b[0m\r\n"
     ]
    }
   ],
   "source": [
    "!qiime tools export \\\n",
    "  --input-path /Users/anthonybonacolta/Desktop/Nvec_16s/table-no-MitoChl_Nvec.qza \\\n",
    "  --output-path /Users/anthonybonacolta/Desktop/Nvec_16s/export_Nvec"
   ]
  },
  {
   "cell_type": "code",
   "execution_count": 48,
   "metadata": {},
   "outputs": [],
   "source": [
    "!biom  convert \\\n",
    "-i /Users/anthonybonacolta/Desktop/Nvec_16s/export_Nvec/feature-table.biom \\\n",
    "--to-tsv \\\n",
    "-o feature-tableMBON.txt"
   ]
  },
  {
   "cell_type": "code",
   "execution_count": 57,
   "metadata": {},
   "outputs": [
    {
     "name": "stdout",
     "output_type": "stream",
     "text": [
      "/Users/anthonybonacolta/Desktop/Nvec_16s/export_Nvec\n"
     ]
    }
   ],
   "source": [
    "cd /Users/anthonybonacolta/Desktop/Nvec_16s/export_Nvec/"
   ]
  },
  {
   "cell_type": "code",
   "execution_count": 58,
   "metadata": {},
   "outputs": [
    {
     "data": {
      "text/plain": [
       "'/Users/anthonybonacolta/Desktop/Nvec_16s/export_Nvec'"
      ]
     },
     "execution_count": 58,
     "metadata": {},
     "output_type": "execute_result"
    }
   ],
   "source": [
    "pwd"
   ]
  },
  {
   "cell_type": "code",
   "execution_count": 59,
   "metadata": {},
   "outputs": [
    {
     "name": "stdout",
     "output_type": "stream",
     "text": [
      "      24\n",
      "     621\n",
      "     620\n"
     ]
    }
   ],
   "source": [
    "#Remove mito and chloroplast from taxonomy, remove header and sort to\n",
    "#relabel on R\n",
    "!grep 'Chloroplast\\|Mitochondria' taxonomy.tsv | wc -l\n",
    "!grep -v 'Chloroplast\\|Mitochondria' taxonomy.tsv | wc -l\n",
    "\n",
    "!grep -v 'Chloroplast\\|Mitochondria' taxonomy.tsv | \\\n",
    "tail -n +2 |  \\\n",
    "sort -k1,1 | wc -l\n",
    "\n",
    "!grep -v 'Chloroplast\\|Mitochondria' taxonomy.tsv | \\\n",
    "tail -n +2 |  \\\n",
    "sort -k1,1   > tax-no-MitoChNvec.txt"
   ]
  },
  {
   "cell_type": "code",
   "execution_count": 60,
   "metadata": {},
   "outputs": [],
   "source": [
    "!biom  convert \\\n",
    "-i feature-table.biom \\\n",
    "--to-tsv \\\n",
    "-o feature-tableNvec.txt"
   ]
  },
  {
   "cell_type": "code",
   "execution_count": 61,
   "metadata": {},
   "outputs": [
    {
     "name": "stdout",
     "output_type": "stream",
     "text": [
      "     621 feature-tableNvec.txt\n",
      "# Constructed from biom file\n",
      "#OTU ID\tNV10C\tNV10M\tNV10P\tNV11C\tNV11M\tNV11P\tNV4C\tNV4M\tNV4P\tNV5C\tNV5M\tNV5P\tNV6C\tNV6M\tNV6P\tNV8C\tNV8M\tNV8P\tNVN1\n",
      "882b5b49ef18215727a0900958cdec5d\t0.0\t0.0\t4.0\t22.0\t0.0\t3.0\t203.0\t17.0\t0.0\t4.0\t11.0\t5.0\t0.0\t0.0\t0.0\t0.0\t0.0\t19.0\t641.0\n",
      "9c85a7c3df8f897f7f7384d6ee69795a\t0.0\t0.0\t0.0\t0.0\t0.0\t0.0\t0.0\t0.0\t82.0\t0.0\t0.0\t0.0\t0.0\t0.0\t0.0\t0.0\t0.0\t0.0\t0.0\n",
      "aa0426fd223e077ce623956d8f030283\t0.0\t11.0\t17.0\t0.0\t0.0\t0.0\t0.0\t0.0\t0.0\t0.0\t0.0\t0.0\t0.0\t0.0\t0.0\t0.0\t0.0\t0.0\t0.0\n",
      "b8c545c99dea06d010eb0bf2c6572d1c\t0.0\t0.0\t0.0\t0.0\t0.0\t0.0\t0.0\t0.0\t93.0\t0.0\t0.0\t0.0\t0.0\t0.0\t0.0\t0.0\t0.0\t0.0\t0.0\n",
      "a7da93a9744a7863292bcf97d47b6a10\t0.0\t0.0\t0.0\t19.0\t0.0\t7.0\t227.0\t15.0\t131.0\t14.0\t0.0\t0.0\t0.0\t0.0\t0.0\t9.0\t0.0\t21.0\t0.0\n",
      "1cb921ab8e1f9c8fc61d19cc69a27d40\t0.0\t0.0\t23.0\t0.0\t0.0\t0.0\t0.0\t0.0\t0.0\t0.0\t0.0\t0.0\t0.0\t0.0\t0.0\t0.0\t0.0\t0.0\t0.0\n",
      "af050ab6cd38e20acfc4ad845600b6c6\t30.0\t16.0\t61.0\t0.0\t0.0\t0.0\t314.0\t51.0\t0.0\t2.0\t7.0\t16.0\t15.0\t9.0\t6.0\t0.0\t22.0\t13.0\t0.0\n",
      "945184b6386c192c0066e0a98a154780\t0.0\t0.0\t0.0\t0.0\t0.0\t0.0\t557.0\t0.0\t171.0\t0.0\t0.0\t0.0\t0.0\t0.0\t0.0\t0.0\t0.0\t0.0\t0.0\n"
     ]
    }
   ],
   "source": [
    "!wc -l feature-tableNvec.txt\n",
    "!head feature-tableNvec.txt"
   ]
  },
  {
   "cell_type": "code",
   "execution_count": 62,
   "metadata": {},
   "outputs": [
    {
     "name": "stdout",
     "output_type": "stream",
     "text": [
      "sed: illegal option -- -\r\n",
      "usage: sed script [-Ealn] [-i extension] [file ...]\r\n",
      "       sed [-Ealn] [-i extension] [-e script] ... [-f script_file] ... [file ...]\r\n"
     ]
    }
   ],
   "source": [
    "!sed --r 's/#OTU\\sID/SVID/g' feature-tableNvec.txt | grep -v \"#\" > feature-tableNvec_edit.txt"
   ]
  },
  {
   "cell_type": "code",
   "execution_count": 3,
   "metadata": {},
   "outputs": [
    {
     "name": "stdout",
     "output_type": "stream",
     "text": [
      "/bin/sh: shared_phylotypes: command not found\r\n"
     ]
    }
   ],
   "source": [
    "!shared_phylotypes \\\n",
    "-i feature-table.biom \\\n",
    "-o shared_otus.txt"
   ]
  },
  {
   "cell_type": "code",
   "execution_count": 7,
   "metadata": {},
   "outputs": [
    {
     "data": {
      "text/plain": [
       "'/Users/anthonybonacolta/Box/Nvec_Microbiome/Nvec_16s(InitialAnalysis)'"
      ]
     },
     "execution_count": 7,
     "metadata": {},
     "output_type": "execute_result"
    }
   ],
   "source": [
    "pwd"
   ]
  },
  {
   "cell_type": "code",
   "execution_count": 2,
   "metadata": {},
   "outputs": [],
   "source": [
    "mkdir ANCOM"
   ]
  },
  {
   "cell_type": "code",
   "execution_count": 4,
   "metadata": {},
   "outputs": [
    {
     "name": "stdout",
     "output_type": "stream",
     "text": [
      "\u001b[32mSaved FeatureTable[Frequency] to: ANCOM/feature_table_for_ANCOM.qza\u001b[0m\r\n"
     ]
    }
   ],
   "source": [
    "!qiime taxa collapse \\\n",
    "--i-table table-no-MitoChl_Nvec.qza \\\n",
    "--i-taxonomy taxonomyNvec.qza \\\n",
    "--p-level 2 \\\n",
    "--o-collapsed-table ANCOM/feature_table_for_ANCOM.qza"
   ]
  },
  {
   "cell_type": "code",
   "execution_count": 9,
   "metadata": {},
   "outputs": [
    {
     "name": "stdout",
     "output_type": "stream",
     "text": [
      "\u001b[32mSaved FeatureTable[Composition] to: ANCOM/ANCOM_ready_table.qza\u001b[0m\r\n"
     ]
    }
   ],
   "source": [
    "# Add pseudocount\n",
    "!qiime composition add-pseudocount \\\n",
    "--i-table ANCOM/feature_table_for_ANCOM.qza \\\n",
    "--o-composition-table ANCOM/ANCOM_ready_table.qza"
   ]
  },
  {
   "cell_type": "code",
   "execution_count": 11,
   "metadata": {},
   "outputs": [
    {
     "name": "stdout",
     "output_type": "stream",
     "text": [
      "\u001b[32mSaved Visualization to: ANCOM/ancom_group_results.qzv\u001b[0m\r\n"
     ]
    }
   ],
   "source": [
    "# Run ANCOM on 16S data by cases/controls\n",
    "!qiime composition ancom \\\n",
    "--i-table ANCOM/ANCOM_ready_table.qza \\\n",
    "--m-metadata-file 16S_metadata_tab.txt \\\n",
    "--m-metadata-column Tissue \\\n",
    "--o-visualization ANCOM/ancom_group_results.qzv \\\n",
    "--verbose"
   ]
  },
  {
   "cell_type": "code",
   "execution_count": 7,
   "metadata": {},
   "outputs": [
    {
     "name": "stdout",
     "output_type": "stream",
     "text": [
      "\u001b[32mSaved FeatureData[Sequence] to: chimeras.qza\u001b[0m\n",
      "\u001b[32mSaved FeatureData[Sequence] to: non-chimera.qza\u001b[0m\n",
      "\u001b[32mSaved UchimeStats to: UchimeStats.qza\u001b[0m\n"
     ]
    }
   ],
   "source": [
    "!qiime vsearch uchime-denovo \\\n",
    "--i-sequences rep_seqs_Nvec.qza \\\n",
    "--i-table table_Nvec.qza \\\n",
    "--o-chimeras chimeras.qza \\\n",
    "--o-nonchimeras non-chimera.qza \\\n",
    "--o-stats UchimeStats.qza"
   ]
  },
  {
   "cell_type": "code",
   "execution_count": null,
   "metadata": {},
   "outputs": [],
   "source": []
  }
 ],
 "metadata": {
  "kernelspec": {
   "display_name": "Python 3",
   "language": "python",
   "name": "python3"
  },
  "language_info": {
   "codemirror_mode": {
    "name": "ipython",
    "version": 3
   },
   "file_extension": ".py",
   "mimetype": "text/x-python",
   "name": "python",
   "nbconvert_exporter": "python",
   "pygments_lexer": "ipython3",
   "version": "3.6.5"
  }
 },
 "nbformat": 4,
 "nbformat_minor": 2
}
